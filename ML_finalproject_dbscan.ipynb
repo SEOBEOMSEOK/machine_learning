{
 "cells": [
  {
   "cell_type": "code",
   "execution_count": 1,
   "id": "2dcd1711-4491-493b-a507-6e77f59c1b43",
   "metadata": {},
   "outputs": [],
   "source": [
    "import random"
   ]
  },
  {
   "cell_type": "code",
   "execution_count": 2,
   "id": "05984933-b914-47fb-8a6b-d5a9ef837e99",
   "metadata": {},
   "outputs": [
    {
     "name": "stdout",
     "output_type": "stream",
     "text": [
      "[[[2, 3], [1, 2], [3, 4]]]\n"
     ]
    }
   ],
   "source": [
    "def euclidean_distance(point1, point2):\n",
    "    if len(point1) == len(point2):  # 두 포인트의 차원이 같은지 확인\n",
    "        sum_squared_diff = 0  # 각 차원별로 거리의 합을 저장하기 위한 변수\n",
    "        for x1, x2 in zip(point1, point2):\n",
    "            sum_squared_diff += (x1 - x2) ** 2\n",
    "        distance = sum_squared_diff ** 0.5\n",
    "        result = distance\n",
    "    else:\n",
    "        raise ValueError(\"두 포인트의 차원이 같지 않습니다.\")\n",
    "    return result\n",
    "\n",
    "def core_point_scan(dataset, min_points, eps):\n",
    "    core_points = []\n",
    "    for i in range(len(dataset)):\n",
    "        near_points = []\n",
    "        check_point = dataset[i]\n",
    "        for j in range(len(dataset)):\n",
    "            if i != j:\n",
    "                compare_point = dataset[j]\n",
    "                distance = euclidean_distance(check_point, compare_point)\n",
    "                if distance < eps:\n",
    "                    near_points.append(dataset[j])\n",
    "        if len(near_points) >= min_points:  \n",
    "            core_points.append(dataset[i])\n",
    "    return core_points\n",
    "\n",
    "def near_points_select(ref_point, dataset, eps):\n",
    "    near_points = []\n",
    "    for i in range(len(dataset)):\n",
    "        scan_point = dataset[i]\n",
    "        distance = euclidean_distance(ref_point, scan_point)\n",
    "        if distance < eps:\n",
    "            near_points.append(dataset[i])\n",
    "    return near_points\n",
    "\n",
    "def dbscan(dataset, min_points, eps):\n",
    "    core_points = core_point_scan(dataset, min_points, eps)\n",
    "    cluster_group_list = []\n",
    "    non_visit_sample = dataset.copy()\n",
    "    while core_points:\n",
    "        random_index = random.randrange(len(core_points))\n",
    "        current_core_point = core_points.pop(random_index)\n",
    "        queue = [current_core_point]\n",
    "        cluster = []\n",
    "        while queue:\n",
    "            sample_q = queue.pop(0)\n",
    "            if sample_q in non_visit_sample:\n",
    "                non_visit_sample.remove(sample_q)\n",
    "                cluster.append(sample_q)\n",
    "                near_points_list = near_points_select(sample_q, dataset, eps)\n",
    "                if len(near_points_list) >= min_points:\n",
    "                    for point in near_points_list:\n",
    "                        if point in non_visit_sample and point not in queue:\n",
    "                            queue.append(point)\n",
    "        cluster_group_list.append(cluster)\n",
    "        core_points = [ele for ele in core_points if ele not in cluster]\n",
    "    return cluster_group_list\n",
    "\n",
    "# 데이터셋과 파라미터를 정의\n",
    "dataset = [[1, 2], [2, 3], [3, 4], [5, 6], [8, 8]]  # 예시 데이터셋\n",
    "min_points = 2\n",
    "eps = 2.5\n",
    "\n",
    "clutered_list = dbscan(dataset, min_points, eps)\n",
    "print(clutered_list)\n"
   ]
  },
  {
   "cell_type": "code",
   "execution_count": 4,
   "id": "4f86bcf5-15d4-4638-ac59-6df5219b4f84",
   "metadata": {},
   "outputs": [
    {
     "data": {
      "text/plain": [
       "[[2, 3], [1, 2], [3, 4]]"
      ]
     },
     "execution_count": 4,
     "metadata": {},
     "output_type": "execute_result"
    }
   ],
   "source": [
    "clutered_list[0]"
   ]
  },
  {
   "cell_type": "code",
   "execution_count": null,
   "id": "6d72ebbb-7b28-44a1-a7f0-8b760befafe4",
   "metadata": {},
   "outputs": [],
   "source": []
  }
 ],
 "metadata": {
  "kernelspec": {
   "display_name": "Python 3 (ipykernel)",
   "language": "python",
   "name": "python3"
  },
  "language_info": {
   "codemirror_mode": {
    "name": "ipython",
    "version": 3
   },
   "file_extension": ".py",
   "mimetype": "text/x-python",
   "name": "python",
   "nbconvert_exporter": "python",
   "pygments_lexer": "ipython3",
   "version": "3.11.8"
  }
 },
 "nbformat": 4,
 "nbformat_minor": 5
}
